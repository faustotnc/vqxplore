{
 "cells": [
  {
   "cell_type": "code",
   "execution_count": null,
   "id": "b2ec101c",
   "metadata": {},
   "outputs": [],
   "source": [
    "#this whole thing took multiple hours to run\n",
    "!pip install transformers\n",
    "#might not need torch, but it was complaining that I didn't have Tensor or PyTorch\n",
    "#so i just did both\n",
    "!pip install torch\n",
    "!pip install TensorFlow\n",
    "!pip install datasets\n",
    "\n",
    "from transformers import CLIPProcessor\n",
    "from datasets import load_dataset, DownloadConfig\n",
    "\n",
    "\n",
    "dl_config = DownloadConfig(resume_download=True,\n",
    "        num_proc=8,\n",
    "        force_download=True)\n",
    "\n",
    "# Load 'general' instance of dataset\n",
    "dataset = load_dataset('dali-does/clevr-math', download_config=dl_config)\n",
    "\n",
    "# Load version with only multihop in test data\n",
    "dataset_multihop = load_dataset('dali-does/clevr-math', 'multihop',\n",
    "                                download_config=dl_config)\n",
    "\n",
    "\n",
    "model_path = \"openai/clip-vit-base-patch32\"\n",
    "extractor = CLIPProcessor.from_pretrained(model_path)\n",
    "def transform_tokenize(e):\n",
    "  e['image'] = [image.convert('RGB') for image in e['image']]\n",
    "  return extractor(text=e['question'],\n",
    "                           images=e['image'],\n",
    "                           padding=True)\n",
    "# no argument called padding, so I removed? seems like this is taken care of in transform_tokenize\n",
    "#this part takes the most time\n",
    "dataset = dataset.map(transform_tokenize,\n",
    "                      batched=True,\n",
    "                      num_proc=8)\n",
    "\n",
    "dataset_subtraction = dataset.filter(lambda e:\n",
    "        e['template'].startswith('subtraction'), num_proc=4)"
   ]
  },
  {
   "cell_type": "code",
   "execution_count": null,
   "id": "8949ee45",
   "metadata": {},
   "outputs": [],
   "source": [
    "# code from the website\n",
    "'''\n",
    "from transformers import CLIPPreprocessor\n",
    "from datasets import load_dataset, DownloadConfig\n",
    "\n",
    "\n",
    "dl_config = DownloadConfig(resume_download=True,\n",
    "        num_proc=8,\n",
    "        force_download=True)\n",
    "\n",
    "# Load 'general' instance of dataset\n",
    "dataset = load_dataset('dali-does/clevr-math', download_config=dl_config)\n",
    "\n",
    "# Load version with only multihop in test data\n",
    "dataset_multihop = load_dataset('dali-does/clevr-math', 'multihop',\n",
    "                                download_config=dl_config)\n",
    "\n",
    "\n",
    "model_path = \"openai/clip-vit-base-patch32\"\n",
    "extractor = CLIPProcessor.from_pretrained(model_path)\n",
    "def transform_tokenize(e):\n",
    "  e['image'] = [image.convert('RGB') for image in e['image']]\n",
    "  return extractor(text=e['question'],\n",
    "                           images=e['image'],\n",
    "                           padding=True)\n",
    "\n",
    "dataset = dataset.map(transform_tokenize,\n",
    "                      batched=True,\n",
    "                      num_proc=8,\n",
    "                      padding='max_length')\n",
    "\n",
    "dataset_subtraction = dataset.filter(lambda e:\n",
    "        e['template'].startswith('subtraction'), num_proc=4)\n",
    "'''"
   ]
  },
  {
   "cell_type": "code",
   "execution_count": null,
   "id": "a8cf7e02",
   "metadata": {},
   "outputs": [],
   "source": [
    "dataset"
   ]
  },
  {
   "cell_type": "code",
   "execution_count": null,
   "id": "945de909",
   "metadata": {},
   "outputs": [],
   "source": []
  }
 ],
 "metadata": {
  "kernelspec": {
   "display_name": "Python 3 (ipykernel)",
   "language": "python",
   "name": "python3"
  },
  "language_info": {
   "codemirror_mode": {
    "name": "ipython",
    "version": 3
   },
   "file_extension": ".py",
   "mimetype": "text/x-python",
   "name": "python",
   "nbconvert_exporter": "python",
   "pygments_lexer": "ipython3",
   "version": "3.9.12"
  }
 },
 "nbformat": 4,
 "nbformat_minor": 5
}
